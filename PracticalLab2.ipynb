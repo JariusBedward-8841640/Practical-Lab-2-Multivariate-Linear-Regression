{
 "cells": [
  {
   "metadata": {},
   "cell_type": "markdown",
   "source": "# Step 1: Import Libraries and Load the Dataset",
   "id": "8a620f134a7d97ad"
  },
  {
   "cell_type": "code",
   "execution_count": null,
   "id": "initial_id",
   "metadata": {
    "collapsed": true
   },
   "outputs": [],
   "source": [
    "import numpy as np\n",
    "import pandas as pd\n",
    "import matplotlib.pyplot as plt\n",
    "import seaborn as sns\n",
    "from sklearn.datasets import load_diabetes\n",
    "from sklearn.model_selection import train_test_split\n",
    "from sklearn.preprocessing import PolynomialFeatures\n",
    "from sklearn.linear_model import LinearRegression\n",
    "from sklearn.metrics import r2_score, mean_absolute_error\n",
    "\n",
    "\n",
    "# load dataset\n",
    "diabetes = load_diabetes.load_diabetes(as_frame=True, scaled=False)\n",
    "\n",
    "x = diabetes.data\n",
    "y = diabetes.target\n",
    "\n",
    "print(x.head())\n",
    "print(y.head())\n",
    "\n",
    "#optional\n",
    "# print(diabetes.DESCR)\n"
   ]
  },
  {
   "metadata": {},
   "cell_type": "markdown",
   "source": [
    "# Frame the Problem\n",
    "\n",
    "Predict **diabetes progression one year after baseline**\n",
    "\n",
    "    -**Target variable:** disease progression(continous)\n",
    "    -**Features:** 10 physilogical measurements(age, sex, BMI, blood preassure, bloo serum metrics)\\\n",
    "    -**Problem type:** Regression\n",
    "    -**Evaluation metrics** R², MAE, MAPE\n",
    "\n",
    "# review this more\n",
    "\n"
   ],
   "id": "3b52f729f35597c7"
  },
  {
   "metadata": {},
   "cell_type": "code",
   "outputs": [],
   "execution_count": null,
   "source": [
    "# dataset dimensions\n",
    "\n",
    "print(\"Feature matrix shape:\", x.shape)\n",
    "print(\"Target vector shape:\", y.shape)\n"
   ],
   "id": "376fe8bcef2962dc"
  },
  {
   "metadata": {},
   "cell_type": "markdown",
   "source": [
    "# Step 3: Exploratory Data Analysis\n",
    "\n",
    "Objectives:\n",
    "1. Summary statistics\n",
    "2. Feature distributions\n",
    "3. Feature-target relationships\n",
    "4. Correlation matrix\n",
    "5. Insights for modeling"
   ],
   "id": "db87547e0605a78b"
  },
  {
   "metadata": {
    "ExecuteTime": {
     "end_time": "2025-10-15T19:42:15.676185Z",
     "start_time": "2025-10-15T19:42:14.755731Z"
    }
   },
   "cell_type": "code",
   "source": [
    "# Summary statistics\n",
    "\n",
    "print(x.describe())\n",
    "print(\"\\nTarget variable statistics:\")\n",
    "print(y.describe())\n",
    "\n",
    "#Histograms\n",
    "x.hist(bins=15, figsize=(15, 10))\n",
    "plt.suptitle(\"Feature Distributions\")\n",
    "plt.show()\n",
    "\n",
    "\n",
    "\n",
    "# Scatter plots of features vs target\n",
    "\n",
    "for col in x.columns:\n",
    "    plt.figure()\n",
    "    plt.scatter(x[col], y)\n",
    "    plt.title(f\"{col} vs Disease Progression\")\n",
    "    plt.xlabel(col)\n",
    "    plt.ylabel(\"Disease Progression\")\n",
    "    plt.show()\n",
    "\n",
    "\n",
    "# Correlation matrix\n",
    "\n",
    "corr_matrix = x.copy()\n",
    "corr_matrix[\"target\"] = y\n",
    "plt.figure(figsize=(12,8))\n",
    "sns.heatmap(corr_matrix.corr(), annot=True, cmap=\"coolwarm\", fmt=\".2f\")"
   ],
   "id": "efb2d12b861db22e",
   "outputs": [
    {
     "ename": "NameError",
     "evalue": "name 'x' is not defined",
     "output_type": "error",
     "traceback": [
      "\u001B[31m---------------------------------------------------------------------------\u001B[39m",
      "\u001B[31mNameError\u001B[39m                                 Traceback (most recent call last)",
      "\u001B[36mCell\u001B[39m\u001B[36m \u001B[39m\u001B[32mIn[1]\u001B[39m\u001B[32m, line 3\u001B[39m\n\u001B[32m      1\u001B[39m \u001B[38;5;66;03m# Summary statistics\u001B[39;00m\n\u001B[32m----> \u001B[39m\u001B[32m3\u001B[39m \u001B[38;5;28mprint\u001B[39m(\u001B[43mx\u001B[49m.describe())\n\u001B[32m      4\u001B[39m \u001B[38;5;28mprint\u001B[39m(\u001B[33m\"\u001B[39m\u001B[38;5;130;01m\\n\u001B[39;00m\u001B[33mTarget variable statistics:\u001B[39m\u001B[33m\"\u001B[39m)\n\u001B[32m      5\u001B[39m \u001B[38;5;28mprint\u001B[39m(y.describe())\n",
      "\u001B[31mNameError\u001B[39m: name 'x' is not defined"
     ]
    }
   ],
   "execution_count": 1
  },
  {
   "metadata": {},
   "cell_type": "markdown",
   "source": [
    "# Step 4: Data Cleaning\n",
    "\n",
    "Checks:\n",
    "- Missing values\n",
    "- Outliers\n",
    "- Feature scaling\n",
    "\n",
    "Rationale: Ensure reliable modeling and reproducibility"
   ],
   "id": "c831cdd399fbb822"
  },
  {
   "metadata": {},
   "cell_type": "code",
   "outputs": [],
   "execution_count": null,
   "source": [
    "# check for missing values\n",
    "                                    # (insa)\n",
    "print(\"Missing values in features:\\n\", x.insa().sum())\n",
    "print(\"Missing values in target:\\n\", y.insa().sum())\n",
    "\n",
    "\n",
    "# Boxplots to inspect outliers\n",
    "\n",
    "for col in x.columns:\n",
    "    plt.figure()\n",
    "    sns.boxplot(x=x[col])\n",
    "    plt.title(f\"Boxplot of {col}\")\n",
    "    plt.show()"
   ],
   "id": "d7706c044644d367"
  },
  {
   "metadata": {},
   "cell_type": "markdown",
   "source": [
    "# Step 5: Split dataset\n",
    "\n",
    "- Training: 75%\n",
    "- Validation: 10%\n",
    "- Test: 15%\n",
    "\n",
    "Use of \"train_test_split\" twice to maintain the proportions and reproducibility with random_state=42\""
   ],
   "id": "9cd76c2e9749e6b2"
  },
  {
   "metadata": {},
   "cell_type": "code",
   "outputs": [],
   "execution_count": null,
   "source": [
    "# Try to find a way without random_state=42\n",
    "\n",
    "#First split: train (75%) and temp (25%)\n",
    "\n",
    "x_train, x_temp, y_train, y_temp = train_test_split(x, y, test_size=0.25, random_state=42)\n",
    "\n",
    "\n",
    "#Second split: validation 10% and test (15%)\n",
    "val_size = 0.10/0.25\n",
    "x_val, x_test, y_val, y_test = train_test_split(x_temp, y_temp, test_size=1-val_size, random_state=42)\n",
    "\n",
    "\n",
    "# Check shapes\n",
    "\n",
    "print(\"Training set:\", x_train.shape, y_train.shape)\n",
    "print(\"Validation set:\", x_val.shape, y_val.shape)\n",
    "print(\"Test set:\", x_test.shape, y_test.shape)\n"
   ],
   "id": "77df986be7d6de1b"
  },
  {
   "metadata": {},
   "cell_type": "markdown",
   "source": "Part 2: Univariate Polynomial Regression",
   "id": "1f436994f5aec6d6"
  },
  {
   "metadata": {},
   "cell_type": "markdown",
   "source": [
    "Step 6: Univariate Polynomial Regression on BMI\n",
    "\n",
    "Use BMI to predict diabetes progression\n",
    "\n",
    "Polynomial degrees 0-5(six models)\n",
    "Fit each model ad store results for comparison"
   ],
   "id": "c49c8fdf3cb28641"
  },
  {
   "metadata": {},
   "cell_type": "code",
   "outputs": [],
   "execution_count": null,
   "source": [
    "# Extract BMI feature\n",
    "\n",
    "x_train_bmi = x_train[[\"bmi\"]]\n",
    "x_val_bmi = x_val[[\"bmi\"]]\n",
    "x_test_bmi = x_test[[\"bmi\"]]\n",
    "\n",
    "# Store models and results\n",
    "\n",
    "models = {}\n",
    "results = []\n",
    "\n",
    "\n",
    "for degree in range(6):\n",
    "    poly = PolynomialFeatures(degree=degree, include_bias=True)\n",
    "    x_train_poly = poly.fit_transform(x_train_bmi)\n",
    "    x_val_poly = poly.fit_transform(x_val_bmi)\n",
    "\n",
    "    model= LinearRegression()\n",
    "    model.fit(x_train_poly, y_train)\n",
    "\n",
    "    models[degree] = (model, poly)\n",
    "\n",
    "    y_train_pred = model.predict(x_train_poly)\n",
    "    y_val_pred = model.predict(x_val_poly)\n",
    "\n",
    "    results.append({\n",
    "        \"Degree\": degree,\n",
    "        \"Train R2\": r2_score(y_train, y_train_pred),\n",
    "        \"Validation R2\": r2_score(y_val, y_val_pred),\n",
    "        \"Train MAE\": mean_absolute_error(y_train, y_train_pred),\n",
    "        \"Validation MAE\": mean_absolute_error(y_val, y_val_pred),\n",
    "        \"Train MAPE\": np.mean(np.abs((y_train - y_train_pred) / y_train)) *100,\n",
    "        \"Validation MAPE\": np.mean(np.abs((y_val - y_val_pred) / y_val)) *100,\n",
    "    })"
   ],
   "id": "4f0a584ea84ff0f"
  },
  {
   "metadata": {},
   "cell_type": "markdown",
   "source": "",
   "id": "e8e911ab0bd859af"
  }
 ],
 "metadata": {
  "kernelspec": {
   "display_name": "Python 3",
   "language": "python",
   "name": "python3"
  },
  "language_info": {
   "codemirror_mode": {
    "name": "ipython",
    "version": 2
   },
   "file_extension": ".py",
   "mimetype": "text/x-python",
   "name": "python",
   "nbconvert_exporter": "python",
   "pygments_lexer": "ipython2",
   "version": "2.7.6"
  }
 },
 "nbformat": 4,
 "nbformat_minor": 5
}
