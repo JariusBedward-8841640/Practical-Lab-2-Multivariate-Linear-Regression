{
 "cells": [
  {
   "metadata": {},
   "cell_type": "markdown",
   "source": "# Step 1: Import Libraries and Load the Dataset",
   "id": "8a620f134a7d97ad"
  },
  {
   "cell_type": "code",
   "id": "initial_id",
   "metadata": {
    "collapsed": true,
    "jupyter": {
     "is_executing": true
    }
   },
   "source": [
    "import numpy as np\n",
    "import pandas as pd\n",
    "import matplotlib.pyplot as plt\n",
    "import seaborn as sns\n",
    "from sklearn.datasets import load_diabetes\n",
    "from sklearn.model_selection import train_test_split\n",
    "from sklearn.preprocessing import PolynomialFeatures\n",
    "from sklearn.linear_model import LinearRegression\n",
    "from sklearn.metrics import r2_score, mean_absolute_error\n",
    "from sklearn.preprocessing import PolynomialFeatures\n",
    "from sklearn.linear_model import LinearRegression\n",
    "from sklearn.neighbors import KNeighborsRegressor\n",
    "from sklearn.preprocessing import StandardScaler\n",
    "from sklearn.linear_model import LogisticRegression\n",
    "from sklearn.metrics import accuracy_score, precision_score, recall_score\n",
    "\n",
    "\n",
    "# load dataset\n",
    "diabetes = load_diabetes.load_diabetes(as_frame=True, scaled=False)\n",
    "\n",
    "x = diabetes.data\n",
    "y = diabetes.target\n",
    "\n",
    "print(x.head())\n",
    "print(y.head())\n",
    "\n",
    "#optional\n",
    "# print(diabetes.DESCR)\n"
   ],
   "outputs": [],
   "execution_count": null
  },
  {
   "metadata": {},
   "cell_type": "markdown",
   "source": [
    "# Frame the Problem\n",
    "\n",
    "Predict **diabetes progression one year after baseline**\n",
    "\n",
    "    -**Target variable:** disease progression(continous)\n",
    "    -**Features:** 10 physilogical measurements(age, sex, BMI, blood preassure, bloo serum metrics)\\\n",
    "    -**Problem type:** Regression\n",
    "    -**Evaluation metrics** R², MAE, MAPE\n",
    "\n",
    "# review this more\n",
    "\n"
   ],
   "id": "3b52f729f35597c7"
  },
  {
   "metadata": {},
   "cell_type": "code",
   "outputs": [],
   "execution_count": null,
   "source": [
    "# dataset dimensions\n",
    "\n",
    "print(\"Feature matrix shape:\", x.shape)\n",
    "print(\"Target vector shape:\", y.shape)\n"
   ],
   "id": "376fe8bcef2962dc"
  },
  {
   "metadata": {},
   "cell_type": "markdown",
   "source": [
    "# Step 3: Exploratory Data Analysis\n",
    "\n",
    "Objectives:\n",
    "1. Summary statistics\n",
    "2. Feature distributions\n",
    "3. Feature-target relationships\n",
    "4. Correlation matrix\n",
    "5. Insights for modeling"
   ],
   "id": "db87547e0605a78b"
  },
  {
   "metadata": {
    "ExecuteTime": {
     "end_time": "2025-10-16T01:33:38.409305300Z",
     "start_time": "2025-10-15T19:42:14.755731Z"
    }
   },
   "cell_type": "code",
   "source": [
    "# Summary statistics\n",
    "\n",
    "print(x.describe())\n",
    "print(\"\\nTarget variable statistics:\")\n",
    "print(y.describe())\n",
    "\n",
    "#Histograms\n",
    "x.hist(bins=15, figsize=(15, 10))\n",
    "plt.suptitle(\"Feature Distributions\")\n",
    "plt.show()\n",
    "\n",
    "\n",
    "\n",
    "# Scatter plots of features vs target\n",
    "\n",
    "for col in x.columns:\n",
    "    plt.figure()\n",
    "    plt.scatter(x[col], y)\n",
    "    plt.title(f\"{col} vs Disease Progression\")\n",
    "    plt.xlabel(col)\n",
    "    plt.ylabel(\"Disease Progression\")\n",
    "    plt.show()\n",
    "\n",
    "\n",
    "# Correlation matrix\n",
    "\n",
    "corr_matrix = x.copy()\n",
    "corr_matrix[\"target\"] = y\n",
    "plt.figure(figsize=(12,8))\n",
    "sns.heatmap(corr_matrix.corr(), annot=True, cmap=\"coolwarm\", fmt=\".2f\")"
   ],
   "id": "efb2d12b861db22e",
   "outputs": [
    {
     "ename": "NameError",
     "evalue": "name 'x' is not defined",
     "output_type": "error",
     "traceback": [
      "\u001B[31m---------------------------------------------------------------------------\u001B[39m",
      "\u001B[31mNameError\u001B[39m                                 Traceback (most recent call last)",
      "\u001B[36mCell\u001B[39m\u001B[36m \u001B[39m\u001B[32mIn[1]\u001B[39m\u001B[32m, line 3\u001B[39m\n\u001B[32m      1\u001B[39m \u001B[38;5;66;03m# Summary statistics\u001B[39;00m\n\u001B[32m----> \u001B[39m\u001B[32m3\u001B[39m \u001B[38;5;28mprint\u001B[39m(\u001B[43mx\u001B[49m.describe())\n\u001B[32m      4\u001B[39m \u001B[38;5;28mprint\u001B[39m(\u001B[33m\"\u001B[39m\u001B[38;5;130;01m\\n\u001B[39;00m\u001B[33mTarget variable statistics:\u001B[39m\u001B[33m\"\u001B[39m)\n\u001B[32m      5\u001B[39m \u001B[38;5;28mprint\u001B[39m(y.describe())\n",
      "\u001B[31mNameError\u001B[39m: name 'x' is not defined"
     ]
    }
   ],
   "execution_count": 1
  },
  {
   "metadata": {},
   "cell_type": "markdown",
   "source": [
    "# Step 4: Data Cleaning\n",
    "\n",
    "Checks:\n",
    "- Missing values\n",
    "- Outliers\n",
    "- Feature scaling\n",
    "\n",
    "Rationale: Ensure reliable modeling and reproducibility"
   ],
   "id": "c831cdd399fbb822"
  },
  {
   "metadata": {},
   "cell_type": "code",
   "outputs": [],
   "execution_count": null,
   "source": [
    "# check for missing values\n",
    "                                    # (insa)\n",
    "print(\"Missing values in features:\\n\", x.insa().sum())\n",
    "print(\"Missing values in target:\\n\", y.insa().sum())\n",
    "\n",
    "\n",
    "# Boxplots to inspect outliers\n",
    "\n",
    "for col in x.columns:\n",
    "    plt.figure()\n",
    "    sns.boxplot(x=x[col])\n",
    "    plt.title(f\"Boxplot of {col}\")\n",
    "    plt.show()"
   ],
   "id": "d7706c044644d367"
  },
  {
   "metadata": {},
   "cell_type": "markdown",
   "source": [
    "# Step 5: Split dataset\n",
    "\n",
    "- Training: 75%\n",
    "- Validation: 10%\n",
    "- Test: 15%\n",
    "\n",
    "Use of \"train_test_split\" twice to maintain the proportions and reproducibility with random_state=42\""
   ],
   "id": "9cd76c2e9749e6b2"
  },
  {
   "metadata": {},
   "cell_type": "code",
   "outputs": [],
   "execution_count": null,
   "source": [
    "# Try to find a way without random_state=42\n",
    "\n",
    "#First split: train (75%) and temp (25%)\n",
    "\n",
    "x_train, x_temp, y_train, y_temp = train_test_split(x, y, test_size=0.25, random_state=42)\n",
    "\n",
    "\n",
    "#Second split: validation 10% and test (15%)\n",
    "val_size = 0.10/0.25\n",
    "x_val, x_test, y_val, y_test = train_test_split(x_temp, y_temp, test_size=1-val_size, random_state=42)\n",
    "\n",
    "\n",
    "# Check shapes\n",
    "\n",
    "print(\"Training set:\", x_train.shape, y_train.shape)\n",
    "print(\"Validation set:\", x_val.shape, y_val.shape)\n",
    "print(\"Test set:\", x_test.shape, y_test.shape)\n"
   ],
   "id": "77df986be7d6de1b"
  },
  {
   "metadata": {},
   "cell_type": "markdown",
   "source": "Part 2: Univariate Polynomial Regression",
   "id": "1f436994f5aec6d6"
  },
  {
   "metadata": {},
   "cell_type": "markdown",
   "source": [
    "Step 6: Univariate Polynomial Regression on BMI\n",
    "\n",
    "Use BMI to predict diabetes progression\n",
    "\n",
    "Polynomial degrees 0-5(six models)\n",
    "Fit each model ad store results for comparison"
   ],
   "id": "c49c8fdf3cb28641"
  },
  {
   "metadata": {},
   "cell_type": "code",
   "outputs": [],
   "execution_count": null,
   "source": [
    "# Extract BMI feature\n",
    "\n",
    "x_train_bmi = x_train[[\"bmi\"]]\n",
    "x_val_bmi = x_val[[\"bmi\"]]\n",
    "x_test_bmi = x_test[[\"bmi\"]]\n",
    "\n",
    "# Store models and results\n",
    "\n",
    "models = {}\n",
    "results = []\n",
    "\n",
    "\n",
    "for degree in range(6):\n",
    "    poly = PolynomialFeatures(degree=degree, include_bias=True)\n",
    "    x_train_poly = poly.fit_transform(x_train_bmi)\n",
    "    x_val_poly = poly.fit_transform(x_val_bmi)\n",
    "\n",
    "    model= LinearRegression()\n",
    "    model.fit(x_train_poly, y_train)\n",
    "\n",
    "    models[degree] = (model, poly)\n",
    "\n",
    "    y_train_pred = model.predict(x_train_poly)\n",
    "    y_val_pred = model.predict(x_val_poly)\n",
    "\n",
    "    results.append({\n",
    "        \"Degree\": degree,\n",
    "        \"Train R2\": r2_score(y_train, y_train_pred),\n",
    "        \"Validation R2\": r2_score(y_val, y_val_pred),\n",
    "        \"Train MAE\": mean_absolute_error(y_train, y_train_pred),\n",
    "        \"Validation MAE\": mean_absolute_error(y_val, y_val_pred),\n",
    "        \"Train MAPE\": np.mean(np.abs((y_train - y_train_pred) / y_train)) *100,\n",
    "        \"Validation MAPE\": np.mean(np.abs((y_val - y_val_pred) / y_val)) *100,\n",
    "    })"
   ],
   "id": "4f0a584ea84ff0f"
  },
  {
   "metadata": {},
   "cell_type": "markdown",
   "source": [
    "# Step 7: Compare Polynomial Models\n",
    "\n",
    "Summary of performance (R², MAE, MAPE) for each polynomial degree."
   ],
   "id": "e8e911ab0bd859af"
  },
  {
   "metadata": {
    "ExecuteTime": {
     "end_time": "2025-10-16T01:33:38.459328800Z",
     "start_time": "2025-10-15T20:16:42.369769Z"
    }
   },
   "cell_type": "code",
   "source": [
    "results_df = pd.DataFrame(results)\n",
    "results_df = results_df[[\"Degree\", \"Train R2\", \"Validation R2\", \"Train MAE\", \"Validation MAE\", \"Train MAPE\", \"Validation MAPE\" ]]\n",
    "print(results_df)"
   ],
   "id": "3eb0d2cf16f0ccb1",
   "outputs": [
    {
     "ename": "NameError",
     "evalue": "name 'pd' is not defined",
     "output_type": "error",
     "traceback": [
      "\u001B[31m---------------------------------------------------------------------------\u001B[39m",
      "\u001B[31mNameError\u001B[39m                                 Traceback (most recent call last)",
      "\u001B[36mCell\u001B[39m\u001B[36m \u001B[39m\u001B[32mIn[4]\u001B[39m\u001B[32m, line 1\u001B[39m\n\u001B[32m----> \u001B[39m\u001B[32m1\u001B[39m results_df = \u001B[43mpd\u001B[49m.DataFrame(results)\n\u001B[32m      2\u001B[39m results_df = results_df[[\u001B[33m\"\u001B[39m\u001B[33mDegree\u001B[39m\u001B[33m\"\u001B[39m, \u001B[33m\"\u001B[39m\u001B[33mTrain R2\u001B[39m\u001B[33m\"\u001B[39m, \u001B[33m\"\u001B[39m\u001B[33mValidation R2\u001B[39m\u001B[33m\"\u001B[39m,  ]]\n",
      "\u001B[31mNameError\u001B[39m: name 'pd' is not defined"
     ]
    }
   ],
   "execution_count": 4
  },
  {
   "metadata": {},
   "cell_type": "markdown",
   "source": [
    "# Step 8 Identify the Best Model\n",
    "\n",
    "Choose the model wit the highest validation R² while keep errors reasonable"
   ],
   "id": "3d5a559e580911f9"
  },
  {
   "metadata": {},
   "cell_type": "code",
   "outputs": [],
   "execution_count": null,
   "source": [
    "best_degree = results_df.loc[results_df[\"Validation R2\"].idxmax(), \"Degree\"]\n",
    "best_model, best_poly = models[best_degree]\n",
    "print(f\"Best polynomial degree: {best_degree}\")\n",
    "\n"
   ],
   "id": "532a3292aff19c5a"
  },
  {
   "metadata": {},
   "cell_type": "markdown",
   "source": "# Step 9: Evaluate on Test set",
   "id": "8fc43efad0063f75"
  },
  {
   "metadata": {},
   "cell_type": "code",
   "outputs": [],
   "execution_count": null,
   "source": [
    "x_test_poly = best_poly.transform(x_test_bmi)\n",
    "y_test_pred = best_model.predict(x_test_poly)\n",
    "\n",
    "test_r2 = r2_score(y_test, y_test_pred)\n",
    "test_mae = mean_absolute_error(y_test, y_test_pred)\n",
    "test_mape = np.mean(np.abs((y_test - y_test_pred) / y_test)) * 100\n",
    "\n",
    "print(f\"Test R2: {test_r2:.3f}, Test MAE: {test_mae:.3f}, Test MAPE: {test_mape:.2f}%\")"
   ],
   "id": "45e1119766820446"
  },
  {
   "metadata": {},
   "cell_type": "markdown",
   "source": [
    "# Step 10: Plot Model\n",
    "\n",
    "Train, Validation, test points with fitted curve"
   ],
   "id": "33aca32512b9df2f"
  },
  {
   "metadata": {},
   "cell_type": "code",
   "outputs": [],
   "execution_count": null,
   "source": [
    "bmi_range = np.linspace(x_bmi.min(), x_bmi.max(), 100).reshape(-1.1)\n",
    "bmi_range_poly = best_poly.transform(bmi_range)\n",
    "pred_curve = best_model.predict(bmi_range_poly)\n",
    "\n",
    "plt.figure(figsize=(10,6))\n",
    "plt.scatter(x_train_bmi, y_train, color=\"blue\", label=\"Train\")\n",
    "plt.scatter(x_val_bmi, y_val, color='green', label='Validation')\n",
    "plt.scatter(x_test_bmi, y_test, color='red', label='Test')\n",
    "plt.plot(bmi_range, pred_curve, color='black', linewidth=2, label=f'Polynomial Degree {best_degree} Fit')\n",
    "plt.xlabel(\"BMI\")\n",
    "plt.ylabel(\"Disease Progression\")\n",
    "plt.title(\"Best Univariate Polynomial Regression Fit\")\n",
    "plt.legend()\n",
    "plt.show()"
   ],
   "id": "92896f008d2bd483"
  },
  {
   "metadata": {},
   "cell_type": "markdown",
   "source": "Step 11: Equation of Best Model",
   "id": "e688a4fc79cb9646"
  },
  {
   "metadata": {},
   "cell_type": "code",
   "outputs": [],
   "execution_count": null,
   "source": [
    "coefs = best_model.coef_\n",
    "intercept = best_model.intercept_\n",
    "terms = [f\"{intercept:.2f}\"] + [f\"{coefs[i]:.2f}*x^{i}\" for i in range (1, len(coefs))]\n",
    "equation = \" + \".join(terms)\n",
    "print(f\"Equation: y = {equation}\")\n",
    "#highlight"
   ],
   "id": "5e98988f5315351c"
  },
  {
   "metadata": {},
   "cell_type": "markdown",
   "source": [
    "# Step 12: Predict Diabetes Progression for a BMI value\n",
    "\n"
   ],
   "id": "f5fa3cb977d9107f"
  },
  {
   "metadata": {},
   "cell_type": "code",
   "outputs": [],
   "execution_count": null,
   "source": [
    "chosen_bmi = np.array([30])\n",
    "chosen_bmi_poly = best_poly.transform(chosen_bmi)\n",
    "predicted_progression = best_model.predict(chosen_bmi_poly)\n",
    "print(f\"Predicted progression for BMI=30: {predicted_progression[0]:.2f}\")"
   ],
   "id": "50a25db73d087863"
  },
  {
   "metadata": {},
   "cell_type": "markdown",
   "source": [
    "# Step 13: Trainable parameters\n",
    "\n",
    "Number of trainable coefficients equals number of polynomial features"
   ],
   "id": "58849ca44248b97f"
  },
  {
   "metadata": {},
   "cell_type": "code",
   "outputs": [],
   "execution_count": null,
   "source": [
    "print(\"Polynomial features:\", best_poly.get_features_names_out())\n",
    "print(f\"Number of trainable parameters: {len(best_poly.get_feature_names_out())}\")\n",
    "\n",
    "#highlight"
   ],
   "id": "6d8a356b7d1b3847"
  },
  {
   "metadata": {},
   "cell_type": "markdown",
   "source": [
    "# Step 14: Conclusion\n",
    "\n",
    "- Best degree: {best_degree}, with metrics summarized above.\n",
    "- Limitations: univariate model ignores interactions with other features.\n",
    "- Errors may be large for extreme BMI values.\n",
    "- Takeaways: compare train/validation performance, consider multivariate models for better predictions.\n",
    "#HIghliht do"
   ],
   "id": "11cc7f709283bfa"
  },
  {
   "metadata": {},
   "cell_type": "markdown",
   "source": [
    "#Step 15: Multivaraite Polynomial Regression\n",
    "\n",
    "Use features to build polynomial regression models (degrees 2 and 3).\n",
    "Evaluate R², MAE, and MAPE on train, validation, and test sets."
   ],
   "id": "b3c9ed0c71e96de2"
  },
  {
   "metadata": {
    "jupyter": {
     "is_executing": true
    }
   },
   "cell_type": "code",
   "source": "\n",
   "id": "e13c22416e14e44b",
   "outputs": [],
   "execution_count": null
  },
  {
   "metadata": {},
   "cell_type": "code",
   "outputs": [],
   "execution_count": null,
   "source": "",
   "id": "a7ac6b4677cc3180"
  }
 ],
 "metadata": {
  "kernelspec": {
   "display_name": "Python 3",
   "language": "python",
   "name": "python3"
  },
  "language_info": {
   "codemirror_mode": {
    "name": "ipython",
    "version": 2
   },
   "file_extension": ".py",
   "mimetype": "text/x-python",
   "name": "python",
   "nbconvert_exporter": "python",
   "pygments_lexer": "ipython2",
   "version": "2.7.6"
  }
 },
 "nbformat": 4,
 "nbformat_minor": 5
}
